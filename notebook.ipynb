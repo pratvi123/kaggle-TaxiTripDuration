{
 "cells": [
  {
   "cell_type": "markdown",
   "metadata": {
    "_cell_guid": "e81ee64d-e474-4662-9036-ce23df615199",
    "_uuid": "b6269c0e8f417f82daf093dda8fa0da6d2c57d86"
   },
   "source": [
    "Sample of code below."
   ]
  },
  {
   "cell_type": "code",
   "execution_count": null,
   "metadata": {
    "_cell_guid": "4e066be4-0018-4c36-810b-63d3d6fd6336",
    "_uuid": "bf898f9a995d347fa596a7ca2fdf684cd6f99249",
    "collapsed": true
   },
   "outputs": [],
   "source": [
    "import pandas as pd\n",
    "melbourne_file_path = '../input/melbourne-housing-snapshot/melb_data.csv'\n",
    "melbourne_data = pd.read_csv(melbourne_file_path) \n",
    "print(melbourne_data.describe())\n",
    "print(melbourne_data.columns)\n",
    "melbourne_price_data = melbourne_data.Price\n",
    "print(melbourne_price_data.head())\n",
    "columns_of_interest=['Landsize', 'BuildingArea','Rooms']\n",
    "two_columns_of_data=melbourne_data[columns_of_interest]\n",
    "two_columns_of_data\n"
   ]
  },
  {
   "cell_type": "code",
   "execution_count": null,
   "metadata": {
    "_cell_guid": "06d0bb11-155c-44c8-8ae5-750d0f6db505",
    "_uuid": "07cd96f5642e1895f7a2105638f43d75e4f205c8",
    "collapsed": true
   },
   "outputs": [],
   "source": [
    "melbourne_predictors = ['Rooms', 'Bathroom', 'Landsize', 'BuildingArea', \n",
    "                        'YearBuilt', 'Lattitude', 'Longtitude']\n",
    "x=melbourne_data[melbourne_predictors]\n",
    "print(x)\n",
    "x.isnull().sum()\n",
    "#y=melbourne_data.Price\n",
    "#from sklearn.tree import DecisionTreeRegressor\n",
    "#melbourne_model = DecisionTreeRegressor()\n",
    "#melbourne_model.fit(x, y)"
   ]
  },
  {
   "cell_type": "code",
   "execution_count": null,
   "metadata": {
    "_cell_guid": "b93fb3ec-3cff-40e9-9f25-8169b7b14154",
    "_uuid": "f737d5bc8a1b5992032b3c4c97ce59d8e3989573",
    "collapsed": true
   },
   "outputs": [],
   "source": [
    "x['Bathroom'].fillna(x['Bathroom'].mean(), inplace=True)\n",
    "x['Landsize'].fillna(x['Landsize'].mean(), inplace=True)\n",
    "x['BuildingArea'].fillna(x['BuildingArea'].mean(), inplace=True)\n",
    "x['YearBuilt'].fillna(x['YearBuilt'].mean(), inplace=True)\n",
    "x['Lattitude'].fillna(x['Lattitude'].mean(), inplace=True)\n",
    "x['Longtitude'].fillna(x['Longtitude'].mean(), inplace=True)\n",
    "x.isnull().sum()"
   ]
  },
  {
   "cell_type": "code",
   "execution_count": null,
   "metadata": {
    "_cell_guid": "a891c06e-526b-434f-a156-841a8fa920dd",
    "_uuid": "a75670fd7878dc46b08327c15340869486b39dc0",
    "collapsed": true
   },
   "outputs": [],
   "source": [
    "y=melbourne_data.Price\n",
    "from sklearn.tree import DecisionTreeRegressor\n",
    "melbourne_model = DecisionTreeRegressor()\n",
    "melbourne_model.fit(x, y)"
   ]
  },
  {
   "cell_type": "code",
   "execution_count": null,
   "metadata": {
    "_cell_guid": "9c499776-e272-4b06-83c1-85c99666849e",
    "_uuid": "2ca14613e08a45131ccba5ecc583ffb07f23d0f4",
    "collapsed": true
   },
   "outputs": [],
   "source": [
    "print(\"Making predictions for the following 5 houses:\")\n",
    "print(x.head())\n",
    "print(\"The predictions are\")\n",
    "print(melbourne_model.predict(x.head()))"
   ]
  },
  {
   "cell_type": "code",
   "execution_count": null,
   "metadata": {
    "_cell_guid": "4b172ec0-8204-4a24-9181-313d8e42c1d9",
    "_uuid": "716f1c8b7099c125df7378d50d4f80d8b8349bc9",
    "collapsed": true
   },
   "outputs": [],
   "source": []
  },
  {
   "cell_type": "code",
   "execution_count": null,
   "metadata": {
    "_cell_guid": "9b2f4ec5-2993-461d-9bb6-99a8d48ac1b5",
    "_uuid": "59e8d629f47cda00b592e7682c653144820be112",
    "collapsed": true
   },
   "outputs": [],
   "source": [
    "from sklearn.metrics import mean_absolute_error\n",
    "predicted_home_prices = melbourne_model.predict(x)\n",
    "mean_absolute_error(y, predicted_home_prices)\n"
   ]
  },
  {
   "cell_type": "code",
   "execution_count": null,
   "metadata": {
    "_cell_guid": "2b42e7f2-6a78-4474-a065-377702e000a6",
    "_uuid": "e753532550ea9f3c526b7b7298423e1b5e28428f",
    "collapsed": true
   },
   "outputs": [],
   "source": [
    "from sklearn.model_selection import train_test_split\n",
    "train_X, val_X, train_y, val_y = train_test_split(x, y,random_state = 0)\n",
    "# Define model\n",
    "melbourne_model = DecisionTreeRegressor()\n",
    "# Fit model\n",
    "melbourne_model.fit(train_X, train_y)\n",
    "# get predicted prices on validation data\n",
    "val_predictions = melbourne_model.predict(val_X)\n",
    "print(mean_absolute_error(val_y, val_predictions))"
   ]
  },
  {
   "cell_type": "code",
   "execution_count": null,
   "metadata": {
    "_cell_guid": "531d107a-97e1-477b-95a5-531caecb95d7",
    "_uuid": "a64bf7099c01170880c1cec18531e6215a73b8ab",
    "collapsed": true
   },
   "outputs": [],
   "source": [
    "from sklearn.metrics import mean_absolute_error\n",
    "from sklearn.tree import DecisionTreeRegressor\n",
    "\n",
    "def get_mae(max_leaf_nodes, predictors_train, predictors_val, targ_train, targ_val):\n",
    "    model = DecisionTreeRegressor(max_leaf_nodes=max_leaf_nodes, random_state=0)\n",
    "    model.fit(predictors_train, targ_train)\n",
    "    preds_val = model.predict(predictors_val)\n",
    "    mae = mean_absolute_error(targ_val, preds_val)\n",
    "    return(mae)"
   ]
  },
  {
   "cell_type": "code",
   "execution_count": null,
   "metadata": {
    "_cell_guid": "8ea34c24-423f-44cd-8dbb-2a476e07c929",
    "_uuid": "1d5d2c8efa05eb7bd9c2da3cf838b4cf19a6df5b",
    "collapsed": true
   },
   "outputs": [],
   "source": [
    "for max_leaf_nodes in [5, 50, 500, 5000]:\n",
    "    my_mae = get_mae(max_leaf_nodes, train_X, val_X, train_y, val_y)\n",
    "    print(\"Max leaf nodes: %d  \\t\\t Mean Absolute Error:  %d\" %(max_leaf_nodes, my_mae))"
   ]
  },
  {
   "cell_type": "code",
   "execution_count": null,
   "metadata": {
    "_cell_guid": "ce519cf2-e827-45d6-aef5-6d31023aa553",
    "_uuid": "f616cdf170fab6c910b2f806e232a10d68f561e8",
    "collapsed": true
   },
   "outputs": [],
   "source": [
    "from sklearn.ensemble import RandomForestRegressor\n",
    "from sklearn.metrics import mean_absolute_error\n",
    "\n",
    "forest_model = RandomForestRegressor()\n",
    "forest_model.fit(train_X, train_y)\n",
    "melb_preds = forest_model.predict(val_X)\n",
    "print(mean_absolute_error(val_y, melb_preds))"
   ]
  },
  {
   "cell_type": "code",
   "execution_count": null,
   "metadata": {
    "_cell_guid": "2e2c0c2f-ccce-4c1b-bd77-50ef5dd201ee",
    "_uuid": "0f56bfdd75a85d4dc5696efd2108a92cc2077245",
    "collapsed": true
   },
   "outputs": [],
   "source": []
  }
 ],
 "metadata": {
  "kernelspec": {
   "display_name": "Python 2",
   "language": "python",
   "name": "python2"
  },
  "language_info": {
   "codemirror_mode": {
    "name": "ipython",
    "version": 2
   },
   "file_extension": ".py",
   "mimetype": "text/x-python",
   "name": "python",
   "nbconvert_exporter": "python",
   "pygments_lexer": "ipython2",
   "version": "2.7.14"
  }
 },
 "nbformat": 4,
 "nbformat_minor": 1
}
